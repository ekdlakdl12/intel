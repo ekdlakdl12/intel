{
  "nbformat": 4,
  "nbformat_minor": 0,
  "metadata": {
    "colab": {
      "provenance": [],
      "collapsed_sections": [],
      "authorship_tag": "ABX9TyODtnF06KcI5t4Em8gO5uZn",
      "include_colab_link": true
    },
    "kernelspec": {
      "name": "python3",
      "display_name": "Python 3"
    },
    "language_info": {
      "name": "python"
    }
  },
  "cells": [
    {
      "cell_type": "markdown",
      "metadata": {
        "id": "view-in-github",
        "colab_type": "text"
      },
      "source": [
        "<a href=\"https://colab.research.google.com/github/ekdlakdl12/intel/blob/main/intel10_12.ipynb\" target=\"_parent\"><img src=\"https://colab.research.google.com/assets/colab-badge.svg\" alt=\"Open In Colab\"/></a>"
      ]
    },
    {
      "cell_type": "code",
      "source": [
        "from sklearn.linear_model import Perceptron\n",
        "\n",
        "#훈련 집합 구축하기\n",
        "\n",
        "X=[[0,0],[0,1],[1,0],[1,1]]\n",
        "Y=[-1,1,1,1]\n",
        "\n",
        "#fit 함수로 Perceptron학습\n",
        "p = Perceptron()\n",
        "p.fit(X,Y)\n",
        "\n",
        "print(\"학습된 퍼셉트론의 매개변수\",p.coef_, p.intercept_)\n",
        "print(\"훈련집합에 대한 예측:\",p.predict(X))\n",
        "print(\"정확률 측정:\",p.score(X,Y)*100,\"%\")\n",
        "\n",
        "\n",
        "\n"
      ],
      "metadata": {
        "colab": {
          "base_uri": "https://localhost:8080/"
        },
        "id": "QTZEffFvIDqO",
        "outputId": "f59dd577-3740-4a99-cdbe-7a259114b2a8"
      },
      "execution_count": 9,
      "outputs": [
        {
          "output_type": "stream",
          "name": "stdout",
          "text": [
            "학습된 퍼셉트론의 매개변수 [[2. 2.]] [-1.]\n",
            "훈련집합에 대한 예측: [-1  1  1  1]\n",
            "정확률 측정: 100.0 %\n"
          ]
        }
      ]
    },
    {
      "cell_type": "code",
      "execution_count": null,
      "metadata": {
        "id": "D3FCSHGU8qXE"
      },
      "outputs": [],
      "source": [
        "from sklearn import datasets\n",
        "from sklearn.linear_model import Perceptron\n",
        "from sklearn.model_selection import train_test_split\n",
        "import numpy as np\n",
        "\n",
        "#데이터셋을 읽고 훈련 집합과 테스트 집합으로 분할\n",
        "\n",
        "digit = datasets.load_digits()\n",
        "x_train,x_test,y_train,y_test = train_test_split(digit.data,digit.target,train_size=0.6)\n",
        "\n",
        "#fit 함수로 Perceptron 학습\n",
        "\n",
        "p=Perceptron(max_iter=100,eta0 = 0.001,verbose = 0)\n",
        "p.fit =(x_train,y_train) #digit 데이터로 모델링\n",
        "res = p.predict(x_test)\n",
        "\n",
        "#혼동 행렬\n",
        "\n",
        "conf = np.zeros((10,10))\n",
        "for i in range(len(res)):\n",
        "    conf[res[i]][y_test[i]]+=1\n",
        "print(conf)\n",
        "\n",
        "\n",
        "#정확률 계산\n",
        "no_correct=0\n",
        "for i in range(10):\n",
        "    no_correct+= conf[i][i]\n",
        "accuracy = no_correct/len(res)\n",
        "print(\"테스트 집합에 대한 정확률은\",accuracy*100,\"%입니다\")\n",
        "\n",
        "\n"
      ]
    }
  ]
}