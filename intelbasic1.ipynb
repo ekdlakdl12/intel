{
  "nbformat": 4,
  "nbformat_minor": 0,
  "metadata": {
    "colab": {
      "provenance": [],
      "collapsed_sections": [],
      "authorship_tag": "ABX9TyO3YQwAbyM+cLcbSfisS9u4",
      "include_colab_link": true
    },
    "kernelspec": {
      "name": "python3",
      "display_name": "Python 3"
    },
    "language_info": {
      "name": "python"
    }
  },
  "cells": [
    {
      "cell_type": "markdown",
      "metadata": {
        "id": "view-in-github",
        "colab_type": "text"
      },
      "source": [
        "<a href=\"https://colab.research.google.com/github/ekdlakdl12/intel/blob/main/intelbasic1.ipynb\" target=\"_parent\"><img src=\"https://colab.research.google.com/assets/colab-badge.svg\" alt=\"Open In Colab\"/></a>"
      ]
    },
    {
      "cell_type": "code",
      "execution_count": 9,
      "metadata": {
        "colab": {
          "base_uri": "https://localhost:8080/"
        },
        "id": "W8WT-_S9jOcd",
        "outputId": "3c1672dc-79eb-4ec4-bdc9-e861906c3926"
      },
      "outputs": [
        {
          "output_type": "stream",
          "name": "stdout",
          "text": [
            "1+2+3...+1000000= 50002041.93962107\n",
            "소요 시간은  16.864430904388428 초입니다.\n"
          ]
        }
      ],
      "source": [
        "import time\n",
        "import random\n",
        "\n",
        "start = time.time()\n",
        "sum = 0\n",
        "for i in range(1, 100000001):\n",
        "    sum += random.random()\n",
        "\n",
        "end = time.time()\n",
        "\n",
        "print('1+2+3...+1000000=', sum)\n",
        "print('소요 시간은 ' , end-start, '초입니다.')"
      ]
    },
    {
      "cell_type": "code",
      "source": [
        "from datetime import datetime\n",
        "# 경기 결과 입력 받는 곳\n",
        "place=input(\"경기가 열린 곳은? \")\n",
        "time=input(\"경기가 열린 시간은? \")\n",
        "opponent=input(\"상대 팀은? \")\n",
        "goals=input(\"손흥민은 몇 골을 넣었나요? \")\n",
        "aids=input(\"도움은 몇 개인가요? \")\n",
        "score_me=input(\"손흥민 팀이 넣은 골 수는? \")\n",
        "score_you=input(\"상대 팀이 넣은 골 수는? \")\n",
        "\n",
        "# 기사 작성하는 곳\n",
        "news=\"[프리미어 리그 속보(\"+str(datetime.now())+\")]\\n\"\n",
        "news=news+\"손흥민 선수는 \"+place+\"에서 \"+time+\"에 열린 경기에 출전하였습니다. \"\n",
        "news=news+\"상대 팀은 \"+opponent+\"입니다. \"\n",
        "\n",
        "if score_me>score_you:\n",
        "    news=news+\"손흥민 선수의 팀이 \"+score_me+\"골을 넣어 \"+score_you+\"골을 넣은 상대 팀을 이겼습니다. \"\n",
        "elif score_me<score_you:\n",
        "    news=news+\"손흥민 선수의 팀이 \"+score_me+\"골을 넣어 \"+score_you+\"골을 넣은 상대 팀에게 졌습니다. \"\n",
        "else:\n",
        "    news=news+\"두 팀은 \"+score_me+\"대\"+score_you+\"로 비겼습니다. \"\n",
        "\n",
        "if score_me>score_you:\n",
        "    if int(goals)>0 and int(aids)>0:\n",
        "        news=news+\"손흥민 선수는 \"+goals+\"골에 도움 \"+aids+\"개로 승리를 크게 이끌었습니다. \"\n",
        "    elif int(goals)>0 and int(aids)==0:\n",
        "        news=news+\"손흥민 선수는 \"+goals+\"골로 승리를 이끌었습니다. \"\n",
        "    elif int(goals)==0 and int(aids)>0:\n",
        "        news=news+\"손흥민 선수는 골은 없지만 도움 \"+aids+\"개로 승리하는 데 공헌하였습니다. \"\n",
        "    else:\n",
        "        news=news+\"아쉽게도 이번 경기에서 손홍민의 발끝은 침묵을 지켰습니다. \"\n",
        "else:\n",
        "    if int(goals)>0 and int(aids)>0: \n",
        "        news=news+\"손흥민 선수는 \"+goals+\"골에 도움 \"+aids+\"개로 활약하였으나 아쉽게도 패배하였습니다. \"\n",
        "    elif int(goals)>0 and int(aids)==0:\n",
        "        news=news+\"손흥민 선수는 \"+goals+\"개지만 아쉽게도를 패배하였습니다. \"\n",
        "    elif int(goals)==0 and int(aids)>0:\n",
        "        news=news+\"손흥민 선수는 골은 없지만 도움 \"+aids+\"개로 패배하였습니다 \"\n",
        "    else:\n",
        "        news=news+\"아쉬운경기였습니다. \"\n",
        "print(news)\n",
        "\n",
        "# 음성으로 들려주는 곳\n",
        "!pip install gtts playsound\n",
        "\n",
        "from gtts import gTTS\n",
        "import playsound #알아보기\n",
        "\n",
        "tts=gTTS(text=news,lang='ko') # 문자열 news를 위한 한국어 음성 합성\n",
        "tts.save(\"/content/news_Son.mp3\")\n",
        "\n"
      ],
      "metadata": {
        "colab": {
          "base_uri": "https://localhost:8080/"
        },
        "id": "OJ_2KFLqmrXl",
        "outputId": "73cd5e8d-d67c-4cc3-dbfa-38aa0dc666bb"
      },
      "execution_count": 11,
      "outputs": [
        {
          "output_type": "stream",
          "name": "stdout",
          "text": [
            "경기가 열린 곳은? 수원\n",
            "경기가 열린 시간은? 5시\n",
            "상대 팀은? 바르셀로나\n",
            "손흥민은 몇 골을 넣었나요? 5\n",
            "도움은 몇 개인가요? 3\n",
            "손흥민 팀이 넣은 골 수는? 7\n",
            "상대 팀이 넣은 골 수는? 3\n",
            "[프리미어 리그 속보(2022-09-28 02:57:55.671733)]\n",
            "손흥민 선수는 수원에서 5시에 열린 경기에 출전하였습니다. 상대 팀은 바르셀로나입니다. 손흥민 선수의 팀이 7골을 넣어 3골을 넣은 상대 팀을 이겼습니다. 손흥민 선수는 5골에 도움 3개로 승리를 크게 이끌었습니다. \n",
            "Looking in indexes: https://pypi.org/simple, https://us-python.pkg.dev/colab-wheels/public/simple/\n",
            "Requirement already satisfied: gtts in /usr/local/lib/python3.7/dist-packages (2.2.4)\n",
            "Requirement already satisfied: playsound in /usr/local/lib/python3.7/dist-packages (1.3.0)\n",
            "Requirement already satisfied: requests in /usr/local/lib/python3.7/dist-packages (from gtts) (2.23.0)\n",
            "Requirement already satisfied: click in /usr/local/lib/python3.7/dist-packages (from gtts) (7.1.2)\n",
            "Requirement already satisfied: six in /usr/local/lib/python3.7/dist-packages (from gtts) (1.15.0)\n",
            "Requirement already satisfied: chardet<4,>=3.0.2 in /usr/local/lib/python3.7/dist-packages (from requests->gtts) (3.0.4)\n",
            "Requirement already satisfied: idna<3,>=2.5 in /usr/local/lib/python3.7/dist-packages (from requests->gtts) (2.10)\n",
            "Requirement already satisfied: certifi>=2017.4.17 in /usr/local/lib/python3.7/dist-packages (from requests->gtts) (2022.6.15)\n",
            "Requirement already satisfied: urllib3!=1.25.0,!=1.25.1,<1.26,>=1.21.1 in /usr/local/lib/python3.7/dist-packages (from requests->gtts) (1.24.3)\n"
          ]
        }
      ]
    }
  ]
}